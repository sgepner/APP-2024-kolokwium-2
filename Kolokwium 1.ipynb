{
 "cells": [
  {
   "cell_type": "markdown",
   "id": "87311733",
   "metadata": {},
   "source": [
    "## Automatyzacja-Python Kolokwium 1 - 20.05.2024\n",
    "\n",
    "Podczas kolokwium obowiązuje zakaz używania narzędzi AI oraz komunikacji z osobami z sali lub poza nią. Osoby korzystające z ww. narzędzi lub komunikatorów czy też rozmawiające z osobami z sali otrzymają 0pkt. z kolokwium. Dopuszczalne jest korzystanie z materiałów wykładowych, dokumentacji oraz stackoverflowa."
   ]
  },
  {
   "cell_type": "markdown",
   "id": "07b7deca",
   "metadata": {},
   "source": [
    "## Zadanie 1 (4pkt)\n",
    "1. Utwórz kolekcję zawierającą wartości od 0 do 99.\n",
    "2. Napisz funkcję, która przyjmuje kolekcję i zwraca wartość średnią.\n",
    "3. Wydrukuj wynik"
   ]
  },
  {
   "cell_type": "code",
   "execution_count": 10,
   "id": "d82db8eb",
   "metadata": {},
   "outputs": [
    {
     "name": "stdout",
     "output_type": "stream",
     "text": [
      "range(0, 100)\n"
     ]
    }
   ],
   "source": []
  },
  {
   "cell_type": "markdown",
   "id": "a74ad15d",
   "metadata": {},
   "source": [
    "## Zadanie 2 (4pkt)\n",
    "Stwórz klasę `Primes`, która przechowuje liczbę 4 wartości (3 liczby i tekst) podane przy inicjalizacji. Napisz odpowiednia metodę - konstruktor oraz metodę wypisującą parametry trzymane przez klasę jako komunikat.\n",
    "Nazwij atrybuty `x0`, `x1`, `prime_numbers` oraz `txt`."
   ]
  },
  {
   "cell_type": "code",
   "execution_count": null,
   "id": "df16841e",
   "metadata": {},
   "outputs": [],
   "source": []
  },
  {
   "cell_type": "markdown",
   "id": "9bead7ce",
   "metadata": {},
   "source": [
    "## Zadanie 3 (5pkt)\n",
    "Skompiluj bibliotekę w katalogu `data_generator`. Biblioteka zawiera jedną funkcję, która sprawdza, czy przekazany argument jest liczbą pierwszą.\n",
    "Kożystając z CFFI wywołaj funkcję z biblioteki i sprawdź czy `11587` jest liczbą pierwszą."
   ]
  },
  {
   "cell_type": "code",
   "execution_count": null,
   "id": "738f6017",
   "metadata": {},
   "outputs": [],
   "source": []
  },
  {
   "cell_type": "markdown",
   "id": "7e2f6c1d",
   "metadata": {},
   "source": [
    "## Zadanie 4 (4pkt)\n",
    "Napisz funkcję, która sprawdza ile liczb pierwszych jest w zakresie of `a` do `b` (argumenty funkcji).\n",
    "Stwórz Array przechowujący obiekty klasy `Primes`, a wartośći zainicjalizuj zakresem przeszukiwania i liczbą znalezionych w przedziale liczb pierwszych. Przeszukaj zakres `0-10`, `0-100`, `0-1000`, `0-10000` itd."
   ]
  },
  {
   "cell_type": "code",
   "execution_count": null,
   "id": "eb0a0480",
   "metadata": {},
   "outputs": [],
   "source": []
  },
  {
   "cell_type": "markdown",
   "id": "63839346",
   "metadata": {},
   "source": [
    "## Zadanie 5 (5pt)\n",
    "Przedstaw wykres typu `scatter` przedstawiający liczbę liczb pierwszych w funkcji granicy zakresu przeszukiwania `x1`."
   ]
  },
  {
   "cell_type": "code",
   "execution_count": null,
   "id": "35d7abd9",
   "metadata": {},
   "outputs": [],
   "source": []
  },
  {
   "cell_type": "markdown",
   "id": "e5a6a517",
   "metadata": {},
   "source": [
    "## Zadanie 6 (3pkt)\n",
    "Rozwiąż równanie rózniczkowe w zakresie $t\\in[0,25]$\n",
    "$$\n",
    "\\begin{cases}\n",
    "\\dot{x}=\\lambda x\\\\\n",
    "x(0)=1.0\n",
    "\\end{cases}\n",
    "$$\n",
    "Przedstaw wykresy dla kilku wartości $\\lambda\\in[-2,2]$"
   ]
  },
  {
   "cell_type": "code",
   "execution_count": null,
   "id": "5c836eee",
   "metadata": {},
   "outputs": [],
   "source": []
  },
  {
   "cell_type": "markdown",
   "id": "140a5948",
   "metadata": {},
   "source": [
    "## Zadanie 7 (5pkt)\n",
    "Przygotuj serializację danych zawartych w obiektach klasy `Primes`. Zapisz wartości na dysku, następnie je podniś i wykonaj odpowiedni wykres."
   ]
  },
  {
   "cell_type": "code",
   "execution_count": null,
   "id": "a2ca35bf",
   "metadata": {},
   "outputs": [],
   "source": []
  }
 ],
 "metadata": {
  "kernelspec": {
   "display_name": "Python 3 (ipykernel)",
   "language": "python",
   "name": "python3"
  },
  "language_info": {
   "codemirror_mode": {
    "name": "ipython",
    "version": 3
   },
   "file_extension": ".py",
   "mimetype": "text/x-python",
   "name": "python",
   "nbconvert_exporter": "python",
   "pygments_lexer": "ipython3",
   "version": "3.10.12"
  }
 },
 "nbformat": 4,
 "nbformat_minor": 5
}
